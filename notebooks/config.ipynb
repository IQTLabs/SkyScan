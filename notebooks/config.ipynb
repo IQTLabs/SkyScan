{
 "cells": [
  {
   "cell_type": "markdown",
   "metadata": {},
   "source": [
    "# SkyScan MQTT Config & Control\n",
    "\n",
    "Most aspects of SkyScan can be configured and controlled using MQTT. This notebook walks through a number of different actions you can take to manage your deployment."
   ]
  },
  {
   "cell_type": "markdown",
   "metadata": {},
   "source": [
    "### Install Dependencies\n",
    "\n",
    "The Cell below installs the dependencies required for this Notebook."
   ]
  },
  {
   "cell_type": "code",
   "execution_count": null,
   "metadata": {},
   "outputs": [],
   "source": [
    "!pip3 install paho-mqtt==1.6.1 coloredlogs\n",
    "!wget https://raw.githubusercontent.com/IQTLabs/edgetech-core/main/core/base_mqtt_pub_sub.py"
   ]
  },
  {
   "cell_type": "markdown",
   "metadata": {},
   "source": [
    "### MQTT Helper Functions\n",
    "\n",
    "The following Cell has a number of functions that are used to format and send MQTT messages."
   ]
  },
  {
   "cell_type": "code",
   "execution_count": null,
   "metadata": {},
   "outputs": [],
   "source": [
    "from base_mqtt_pub_sub import BaseMQTTPubSub\n",
    "from typing import Any, Dict\n",
    "from time import sleep\n",
    "import os\n",
    "from datetime import datetime\n",
    "import json\n",
    "import logging\n",
    "\n",
    "class MqttHelper(BaseMQTTPubSub):\n",
    "    def __init__(\n",
    "        self: Any,\n",
    "        publish_topic: str,\n",
    "        orientation_topic: str,\n",
    "        config_topic: str,\n",
    "        object_detection_topic: str,\n",
    "        manual_control_topic: str,\n",
    "        ledger_topic: str,\n",
    "        debug: bool = False,\n",
    "        **kwargs: Any,\n",
    "    ):\n",
    "        super().__init__(**kwargs)\n",
    "        self.orientation_topic = orientation_topic\n",
    "        self.publish_topic = publish_topic\n",
    "        self.config_topic = config_topic\n",
    "        self.object_detection_topic = object_detection_topic\n",
    "        self.manual_control_topic = manual_control_topic\n",
    "        self.ledger_topic = ledger_topic\n",
    "        self.debug = debug\n",
    "\n",
    "        self.connect_client()\n",
    "        sleep(1)\n",
    "        self.publish_registration(\"Manual Sender Registration\")\n",
    "\n",
    "        print(f\"Config Topic: {self.config_topic}\")\n",
    "        print(f\"Orientation Topic: {self.orientation_topic}\")\n",
    "        print(f\"Publish Topic: {self.publish_topic}\")\n",
    "        print(f\"Object Detection Topic: {self.object_detection_topic}\")\n",
    "        print(f\"Manual Control Topic: {self.manual_control_topic}\")\n",
    "        print(f\"Ledger Topic: {self.ledger_topic}\")\n",
    "        \n",
    "    # Used to target a static object at a specific Lat, Lon, Alt\n",
    "    def sendCoordinates(self, name, lat,lon, alt):\n",
    "        target = {\n",
    "            \"timestamp\": \"2023-01-01-00-00-00\",\n",
    "            \"data\": {\n",
    "                \"object_id\": name,\n",
    "                \"object_type\": \"aircraft\",\n",
    "                \"timestamp\": 1.0,\n",
    "                \"latitude\": float(lat),\n",
    "                \"longitude\": float(lon),\n",
    "                \"altitude\": float(alt),\n",
    "                \"track\": 0.0,\n",
    "                \"horizontal_velocity\": 0.0,\n",
    "                \"vertical_velocity\": 0.0\n",
    "            }\n",
    "        }\n",
    "        \n",
    "        payload_json = self.generate_payload_json(\n",
    "            push_timestamp=int(datetime.utcnow().timestamp()),\n",
    "            device_type=\"TBC\",\n",
    "            id_=\"TBC\",\n",
    "            deployment_id=\"TBC\",\n",
    "            current_location=\"TBC\",\n",
    "            status=\"Debug\",\n",
    "            message_type=\"Event\",\n",
    "            model_version=\"null\",\n",
    "            firmware_version=\"v0.0.0\",\n",
    "            data_payload_type=\"Selected Object\",\n",
    "            data_payload=json.dumps(target[\"data\"]),\n",
    "        )\n",
    "        self.publish_to_topic(self.publish_topic, payload_json)    \n",
    "\n",
    "\n",
    "    # Used to track a specific aircraft by its ICAO24           \n",
    "    def sendObjectIDOverride(self, object_id):\n",
    "        print(f\"Sending Object ID Override - {object_id}\")\n",
    "        object_id_msg = self.generate_payload_json(\n",
    "            push_timestamp=int(datetime.utcnow().timestamp()),\n",
    "            device_type=os.environ.get(\"DEVICE_TYPE\", \"Detector\"),\n",
    "            id_=\"Mission Control\",\n",
    "            deployment_id=os.environ.get(\n",
    "                \"DEPLOYMENT_ID\", f\"Unknown-Location\"\n",
    "            ),\n",
    "            current_location=os.environ.get(\"CURRENT_LOCATION\", \"-90, -180\"),\n",
    "            status=\"Debug\",\n",
    "            message_type=\"Event\",\n",
    "            model_version=\"null\",\n",
    "            firmware_version=\"v0.0.0\",\n",
    "            data_payload_type=\"ObjectIDOverride\",\n",
    "            data_payload=object_id,\n",
    "        )\n",
    "        # Send JSON message over MQTT\n",
    "        self.publish_to_topic(self.ledger_topic, object_id_msg)\n",
    "        print(f\"Sent Object ID Override: {object_id_msg}\")\n",
    "\n",
    "\n",
    "    # Update the orientation correction for the camera\n",
    "    def sendOrientation(self, yaw, pitch, roll):\n",
    "        print(f\"Sending Orientation - Yaw: {yaw}, Pitch: {pitch}, Roll: {roll}\")\n",
    "        orientation_msg = self.generate_payload_json(\n",
    "            push_timestamp=int(datetime.utcnow().timestamp()),\n",
    "            device_type=(\"Collector\"),\n",
    "            id_=\"Mission Control\",\n",
    "            deployment_id=\"TBC\",\n",
    "            current_location=\"-90, -180\",\n",
    "            status=\"Debug\",\n",
    "            message_type=\"Event\",\n",
    "            model_version=\"null\",\n",
    "            firmware_version=\"v0.0.0\",\n",
    "            data_payload_type=\"Orientation\",\n",
    "            data_payload=json.dumps(\n",
    "                {\n",
    "                \"tripod_yaw\": yaw,\n",
    "                \"tripod_pitch\": pitch,\n",
    "                \"tripod_roll\": roll,\n",
    "                }\n",
    "            ),\n",
    "        )\n",
    "        print(f\"Sending  Orientation: {orientation_msg}\")\n",
    "        self.publish_to_topic(self.orientation_topic, orientation_msg)\n",
    "\n",
    "    # Send configuration messages for the PTZ controller\n",
    "    def sendConfig(self, json_config: Dict[str, Any]):\n",
    "        config_msg = self.generate_payload_json(\n",
    "            push_timestamp=int(datetime.utcnow().timestamp()),\n",
    "            device_type=(\"Collector\"),\n",
    "            id_=\"Mission Control\",\n",
    "            deployment_id=\"TBC\",\n",
    "            current_location=\"-90, -180\",\n",
    "            status=\"Debug\",\n",
    "            message_type=\"Event\",\n",
    "            model_version=\"null\",\n",
    "            firmware_version=\"v0.0.0\",\n",
    "            data_payload_type=\"Configuration\",\n",
    "            data_payload=json.dumps(json_config),\n",
    "        )\n",
    "        print(f\"Sending Config: {config_msg}\")\n",
    "        self.publish_to_topic(self.config_topic, config_msg)\n",
    "        \n",
    "    # Manually control the PTZ camera\n",
    "    def sendManualControl(self, json_config: Dict[str, Any]):\n",
    "    \n",
    "        config_msg = self.generate_payload_json(\n",
    "            push_timestamp=int(datetime.utcnow().timestamp()),\n",
    "            device_type=(\"Collector\"),\n",
    "            id_=\"Mission Control\",\n",
    "            deployment_id=\"TBC\",\n",
    "            current_location=\"-90, -180\",\n",
    "            status=\"Debug\",\n",
    "            message_type=\"Event\",\n",
    "            model_version=\"null\",\n",
    "            firmware_version=\"v0.0.0\",\n",
    "            data_payload_type=\"Manual Control\",\n",
    "            data_payload=json.dumps(json_config),\n",
    "        )\n",
    "        print(f\"Sending Manual Control: {config_msg}\")\n",
    "        self.publish_to_topic(self.manual_control_topic, config_msg)        \n",
    "\n",
    "    def main(self: Any) -> None:\n",
    "        print('this is a placeholder and does nothing')"
   ]
  },
  {
   "cell_type": "markdown",
   "metadata": {},
   "source": [
    "## Create Instance\n",
    "\n",
    "Create an instance of the MQTT helper in order to send messages. Update the following variables to reflect what is used in the SkyScan deployment."
   ]
  },
  {
   "cell_type": "code",
   "execution_count": null,
   "metadata": {},
   "outputs": [],
   "source": [
    "project_name = \"skyscan\"\n",
    "hostname = \"dev_laptop\"\n",
    "mqtt_ip='127.0.0.1'"
   ]
  },
  {
   "cell_type": "markdown",
   "metadata": {},
   "source": [
    "Now, create an instance of the helper class. You only need to update the MQTT topics if you have made changes in the `.env` file."
   ]
  },
  {
   "cell_type": "code",
   "execution_count": null,
   "metadata": {},
   "outputs": [],
   "source": [
    "mqtt_helper = MqttHelper(mqtt_ip=mqtt_ip,\n",
    "    orientation_topic=f\"/{project_name}/{hostname}/Orientation/edgetech-auto-orienter/JSON\",\n",
    "    publish_topic=f\"/{project_name}/{hostname}/Object/skyscan-c2/JSON\",\n",
    "    config_topic=f\"/{project_name}/{hostname}/Config/skyscan-c2/JSON\",\n",
    "    object_detection_topic=f\"/{project_name}/{hostname}/Detections/edgetech-yolo-detect/JSON\",\n",
    "    manual_control_topic=f\"/{project_name}/{hostname}/Manual_Control/edgetech-axis-ptz-controller/JSON\",\n",
    "    ledger_topic=f\"/{project_name}/{hostname}/Ledger/edgetech-object-ledger/JSON\",\n",
    ")"
   ]
  },
  {
   "cell_type": "markdown",
   "metadata": {},
   "source": []
  },
  {
   "cell_type": "markdown",
   "metadata": {},
   "source": [
    "### Update Orientation\n",
    "You can manually set the Yaw, Pitch, and Roll corrections for the orientation of the camera. Use this to fine tune the pointing of the camera and correct for it not being level."
   ]
  },
  {
   "cell_type": "code",
   "execution_count": null,
   "metadata": {},
   "outputs": [],
   "source": [
    "# update these values to explore orientation corrections\n",
    "yaw = 204.18\n",
    "pitch = -2.76  #-0.46\n",
    "roll =  -2.75 #-2.0\n",
    "\n",
    "mqtt_helper.sendOrientation(yaw, pitch, roll) "
   ]
  },
  {
   "cell_type": "markdown",
   "metadata": {},
   "source": [
    "### Autofocus Control\n",
    "\n",
    "Just leave this set to True"
   ]
  },
  {
   "cell_type": "code",
   "execution_count": null,
   "metadata": {},
   "outputs": [],
   "source": [
    "mqtt_helper.sendConfig({\"axis-ptz-controller\":{\"auto_focus\": True}})"
   ]
  },
  {
   "cell_type": "markdown",
   "metadata": {},
   "source": [
    "### Loop Interval\n",
    "\n",
    "This is how quickly the plane tracking control loop inside the Axis PTZ Controller runs, measured in seconds"
   ]
  },
  {
   "cell_type": "code",
   "execution_count": null,
   "metadata": {},
   "outputs": [],
   "source": [
    "mqtt_helper.sendConfig({\"axis-ptz-controller\":{\"tracking_interval\": 0.25}})"
   ]
  },
  {
   "cell_type": "code",
   "execution_count": null,
   "metadata": {},
   "outputs": [],
   "source": [
    "mqtt_helper.sendConfig({\"axis-ptz-controller\":{\"lead_time\": 0.0}})"
   ]
  },
  {
   "cell_type": "markdown",
   "metadata": {},
   "source": [
    "### Camera Location\n",
    "\n",
    "Adjust the cameras location and altitude. "
   ]
  },
  {
   "cell_type": "code",
   "execution_count": null,
   "metadata": {},
   "outputs": [],
   "source": [
    "mqtt_helper.sendConfig({\"axis-ptz-controller\":{\"tripod_latitude\": 38.925747053571556, \"tripod_longitude\": -77.05186490913148, \"tripod_altitude\": 21}})\n"
   ]
  },
  {
   "cell_type": "markdown",
   "metadata": {},
   "source": [
    "### Pan / Tilt Gain\n",
    "\n",
    "The Pan / Tilt Gain is used in the control system in the Axis PTZ Controller module. It the camera starts oscillating rapidly back and forth, try lowering the gain. If the camera is having trouble keeping up with the plane, try increasing it."
   ]
  },
  {
   "cell_type": "code",
   "execution_count": null,
   "metadata": {},
   "outputs": [],
   "source": [
    "mqtt_helper.sendConfig({\"axis-ptz-controller\":{\"pan_gain\": 10}})\n",
    "mqtt_helper.sendConfig({\"axis-ptz-controller\":{\"tilt_gain\": 10}})"
   ]
  },
  {
   "cell_type": "markdown",
   "metadata": {},
   "source": [
    "You can additionally use the rate of change of the aircraft's angular velocity as a gain element in the control loop. It can help when aircraft are flying directly overhead."
   ]
  },
  {
   "cell_type": "code",
   "execution_count": null,
   "metadata": {},
   "outputs": [],
   "source": [
    "mqtt_helper.sendConfig({\"axis-ptz-controller\":{\"pan_derivative_gain_max\": 1}})  #4\n",
    "mqtt_helper.sendConfig({\"axis-ptz-controller\":{\"tilt_derivative_gain_max\": 1}})  #2"
   ]
  },
  {
   "cell_type": "markdown",
   "metadata": {},
   "source": [
    "These are the max pan/tilt rates for the camera. You generally should not need to mess with these after they have been set."
   ]
  },
  {
   "cell_type": "code",
   "execution_count": null,
   "metadata": {},
   "outputs": [],
   "source": [
    "mqtt_helper.sendConfig({\"axis-ptz-controller\":{\"pan_rate_max\": 350}})\n",
    "mqtt_helper.sendConfig({\"axis-ptz-controller\":{\"tilt_rate_max\": 350}})"
   ]
  },
  {
   "cell_type": "markdown",
   "metadata": {},
   "source": [
    "### Camera Zoom\n",
    "\n",
    "Set the zoom for the camera. It should be between 0 (wide) - 9999 (fully zoomed in)"
   ]
  },
  {
   "cell_type": "code",
   "execution_count": null,
   "metadata": {},
   "outputs": [],
   "source": [
    "mqtt_helper.sendConfig({\"axis-ptz-controller\":{\"zoom\":9999}})"
   ]
  },
  {
   "cell_type": "code",
   "execution_count": null,
   "metadata": {},
   "outputs": [],
   "source": [
    "mqtt_helper.sendConfig({\"axis-ptz-controller\":{\"lead_time\":0.0 }})"
   ]
  },
  {
   "cell_type": "markdown",
   "metadata": {},
   "source": [
    "### Min Altitude\n",
    "\n",
    "The minimum altitude for an aircraft to be tracked. This is helpful if you want to track only cruising level aircraft. This is measured in meters."
   ]
  },
  {
   "cell_type": "code",
   "execution_count": null,
   "metadata": {},
   "outputs": [],
   "source": [
    "mqtt_helper.sendConfig({\"skyscan-c2\":{\"min_altitude\": 0}})"
   ]
  },
  {
   "cell_type": "markdown",
   "metadata": {},
   "source": [
    "### Max Altitude\n",
    "\n",
    "The maximum altitude for an aircraft to be tracked. This is helpful when there is cloud cover and you want to ignore aircraft that are above it. This is measured in meters."
   ]
  },
  {
   "cell_type": "code",
   "execution_count": null,
   "metadata": {},
   "outputs": [],
   "source": [
    "mqtt_helper.sendConfig({\"skyscan-c2\":{\"max_altitude\": 3500}})"
   ]
  },
  {
   "cell_type": "markdown",
   "metadata": {},
   "source": [
    "### Min Tilt\n",
    "If there are obstructions around the camera, you can use this setting to ignore all aircraft below the specified tilt value."
   ]
  },
  {
   "cell_type": "code",
   "execution_count": null,
   "metadata": {},
   "outputs": [],
   "source": [
    "mqtt_helper.sendConfig({\"skyscan-c2\":{\"min_tilt\": 0}})"
   ]
  },
  {
   "cell_type": "markdown",
   "metadata": {},
   "source": [
    "### Target Specific Aircraft"
   ]
  },
  {
   "cell_type": "markdown",
   "metadata": {},
   "source": [
    "Use the ICAO24 code for the aircraft. Keep all of the letters lowercase. Send an empty string to reset back to automatic tracking."
   ]
  },
  {
   "cell_type": "code",
   "execution_count": null,
   "metadata": {},
   "outputs": [],
   "source": [
    "mqtt_helper.sendObjectIDOverride(\"\")"
   ]
  },
  {
   "cell_type": "markdown",
   "metadata": {},
   "source": [
    "### Target Specific Static Coordinates\n",
    "Let's you move the camera to point at a specific static target. This can be helpful for leveling the camera. "
   ]
  },
  {
   "cell_type": "code",
   "execution_count": null,
   "metadata": {},
   "outputs": [],
   "source": [
    "mqtt_helper.sendCoordinates(\"Washington Monument\", 38.889444, -77.035278, 139.0)"
   ]
  },
  {
   "cell_type": "code",
   "execution_count": null,
   "metadata": {},
   "outputs": [],
   "source": [
    "mqtt_helper.sendCoordinates(\"Washington National Cathederal\", 38.930556, -77.070833, 139.0)"
   ]
  },
  {
   "cell_type": "markdown",
   "metadata": {},
   "source": [
    "# Manual Control\n",
    "The Camera's motion can also be manually controlled. You can specify Pan/Tilt values for the camera to move to and also Pan/Tilt rates for the camera to move at."
   ]
  },
  {
   "cell_type": "code",
   "execution_count": null,
   "metadata": {},
   "outputs": [],
   "source": [
    "mqtt_helper.sendManualControl({\"pan\": 0, \"tilt\": 0})\n",
    "sleep(5)\n",
    "mqtt_helper.sendManualControl({\"pan_rate\": 2.00, \"tilt_rate\": 2.0})\n",
    "sleep(15)\n",
    "mqtt_helper.sendManualControl({\"pan_rate\": -2.00, \"tilt_rate\": 2.0})\n",
    "sleep(15)\n",
    "mqtt_helper.sendManualControl({\"pan_rate\": -2.00, \"tilt_rate\": -2.0})\n",
    "sleep(15)\n",
    "mqtt_helper.sendManualControl({\"pan_rate\": 2.00, \"tilt_rate\": -2.0})\n",
    "sleep(15)\n",
    "mqtt_helper.sendManualControl({\"pan_rate\": 2.00, \"tilt_rate\": 2.0})\n",
    "sleep(15)\n",
    "mqtt_helper.sendManualControl({\"pan_rate\": -2.00, \"tilt_rate\": 2.0})\n",
    "sleep(15)\n",
    "mqtt_helper.sendManualControl({\"pan_rate\": -2.00, \"tilt_rate\": -2.0})\n",
    "sleep(15)\n",
    "mqtt_helper.sendManualControl({\"pan_rate\": 2.00, \"tilt_rate\": -2.0})\n",
    "sleep(15)\n",
    "mqtt_helper.sendManualControl({\"pan_rate\": 2.00, \"tilt_rate\": 2.0})\n",
    "sleep(15)\n",
    "mqtt_helper.sendManualControl({\"pan_rate\": -2.00, \"tilt_rate\": 2.0})\n",
    "sleep(15)\n",
    "mqtt_helper.sendManualControl({\"pan_rate\": -2.00, \"tilt_rate\": -2.0})\n",
    "sleep(15)\n",
    "mqtt_helper.sendManualControl({\"pan_rate\": 2.00, \"tilt_rate\": -2.0})\n",
    "sleep(15)\n",
    "mqtt_helper.sendManualControl({\"pan_rate\": 2.00, \"tilt_rate\": 2.0})\n",
    "sleep(15)\n",
    "mqtt_helper.sendManualControl({\"pan_rate\": -2.00, \"tilt_rate\": 2.0})\n",
    "sleep(15)\n",
    "mqtt_helper.sendManualControl({\"pan_rate\": -2.00, \"tilt_rate\": -2.0})\n",
    "sleep(15)\n",
    "mqtt_helper.sendManualControl({\"pan_rate\": 2.00, \"tilt_rate\": -2.0})\n",
    "sleep(15)"
   ]
  },
  {
   "cell_type": "code",
   "execution_count": null,
   "metadata": {},
   "outputs": [],
   "source": []
  }
 ],
 "metadata": {
  "kernelspec": {
   "display_name": "Python 3",
   "language": "python",
   "name": "python3"
  },
  "language_info": {
   "codemirror_mode": {
    "name": "ipython",
    "version": 3
   },
   "file_extension": ".py",
   "mimetype": "text/x-python",
   "name": "python",
   "nbconvert_exporter": "python",
   "pygments_lexer": "ipython3",
   "version": "3.12.2"
  }
 },
 "nbformat": 4,
 "nbformat_minor": 2
}
